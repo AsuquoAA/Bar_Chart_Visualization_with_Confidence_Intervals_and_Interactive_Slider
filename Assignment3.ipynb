{
 "cells": [
  {
   "cell_type": "markdown",
   "metadata": {},
   "source": [
    "## Assignment 3 - Building a Custom Visualization\n",
    "In this assignment you must choose one of the options presented below and submit a visual as well as your source code for peer grading. The details of how you solve the assignment are up to you, although your assignment must use matplotlib so that your peers can evaluate your work. The options differ in challenge level, but there are no grades associated with the challenge level you chose. However, your peers will be asked to ensure you at least met a minimum quality for a given technique in order to pass. Implement the technique fully (or exceed it!) and you should be able to earn full grades for the assignment.\n",
    "\n",
    "Ferreira, N., Fisher, D., & Konig, A. C. (2014, April). Sample-oriented task-driven visualizations: allowing users to make better, more confident decisions.       In Proceedings of the SIGCHI Conference on Human Factors in Computing Systems (pp. 571-580). ACM. (video)\n",
    "\n",
    "In this paper the authors describe the challenges users face when trying to make judgements about probabilistic data generated through samples. As an example, they look at a bar chart of four years of data (replicated below in Figure 1). Each year has a y-axis value, which is derived from a sample of a larger dataset. For instance, the first value might be the number votes in a given district or riding for 1992, with the average being around 33,000. On top of this is plotted the 95% confidence interval for the mean (see the boxplot lectures for more information, and the yerr parameter of barcharts).\n",
    "\n"
   ]
  },
  {
   "cell_type": "code",
   "execution_count": 1,
   "metadata": {},
   "outputs": [],
   "source": [
    "# Use the following data for this assignment:\n",
    "\n",
    "import pandas as pd\n",
    "import numpy as np\n",
    "import scipy.stats as stats\n",
    "import matplotlib.pyplot as plt\n",
    "from matplotlib.colors import Normalize\n",
    "from sklearn.preprocessing import MinMaxScaler\n",
    "import ipywidgets as widgets\n",
    "from IPython.display import display\n",
    "\n",
    "def generate_data():\n",
    "    # seed for reproducibility\n",
    "    np.random.seed(12345)\n",
    "    \n",
    "    # generating data for dataframe\n",
    "    df = pd.DataFrame([np.random.normal(32000,200000,3650), \n",
    "                    np.random.normal(43000,100000,3650), \n",
    "                    np.random.normal(43500,140000,3650), \n",
    "                    np.random.normal(48000,70000,3650)], \n",
    "                    index=[1992,1993,1994,1995])\n",
    "\n",
    "    # returning transpose of dataframe to easily call the datafame based on the years\n",
    "    return df.T"
   ]
  },
  {
   "cell_type": "code",
   "execution_count": 2,
   "metadata": {},
   "outputs": [],
   "source": [
    "# Compute overall means, and, lower and upper bounds.\n",
    "def compute_statistics(df,num_samples=30,n=100):\n",
    "    # initializing variables\n",
    "    z = stats.norm.ppf(0.975)  # 1.96 for 95% confidence\n",
    "    years = []\n",
    "    means = []\n",
    "    overall_means = []\n",
    "    lower_bounds = []\n",
    "    upper_bounds = []\n",
    "    \n",
    "\n",
    "    # for all the years \n",
    "    for year in list(df.columns):\n",
    "        years.append(year)\n",
    "\n",
    "        # Take 30 samples of 100 observations each from each dataset, and calculate the mean for each set of 30 samples. \n",
    "        for _ in range(num_samples):\n",
    "            sample = df[year].sample(n, random_state = None,replace = True)\n",
    "            sample_mean = sample.mean()\n",
    "            means.append(sample_mean)\n",
    "        # Compute the mean of the means for each of the four groups and save each result as overall_mean.  \n",
    "        overall_mean = np.mean(means)\n",
    "        # Store the overall_mean in the overall_means list\n",
    "        overall_means.append(overall_mean)\n",
    "\n",
    "        # find the standard deviation and use that to find the standard error\n",
    "        std_of_mean = np.std(means, ddof=1)\n",
    "        standard_error = std_of_mean/np.sqrt(n) \n",
    "\n",
    "        # use the standard error to find the confidence interval, and use that to find bounds for the error bar plots\n",
    "        lower_bounds.append(overall_mean - (z * standard_error))\n",
    "        upper_bounds.append(overall_mean + (z * standard_error))    \n",
    "\n",
    "    # returning years, overall_mean, lower_bounds, upper_bounds, deviation_from_y\n",
    "    return years, overall_means,lower_bounds,upper_bounds\n",
    "    "
   ]
  },
  {
   "cell_type": "code",
   "execution_count": 16,
   "metadata": {},
   "outputs": [],
   "source": [
    "# Plot the bar chart with error bars and selected value of interest\n",
    "# and handle colors of bars.\n",
    "def plot_data(value_of_interest,years, overall_means,lower_bounds,upper_bounds):    \n",
    "    # Normalize scale and choose a colormap\n",
    "    norm = Normalize(vmin=(-100),vmax=100)\n",
    "    cmap = plt.colormaps['coolwarm']\n",
    "    # initialize colors group\n",
    "    colors = []\n",
    "\n",
    "    # Calculate deviation from value_of_interest and determine colors\n",
    "    deviation_from_y = [value_of_interest - mean for mean in overall_means]\n",
    "\n",
    "    # Scale deviation_from_y to scale of 100 so as to suit the normalize color scale\n",
    "    values = np.array([deviation_from_y]).reshape(-1, 1)  \n",
    "    scaler = MinMaxScaler(feature_range=(0, 100))\n",
    "    scaled_values = scaler.fit_transform(values)\n",
    "    scaled_values = scaled_values.flatten()\n",
    "\n",
    "    # Assign colors based on deviation_from_y with positive deviations \n",
    "    # being closer to red and negative deviations being closer to blue\n",
    "    # while deviations around centre of scale(i.e 0) being close to white\n",
    "    for zipp in list(zip(deviation_from_y,scaled_values)):\n",
    "        if zipp[0] < 0:\n",
    "            colour = cmap(norm(100-zipp[1]))\n",
    "        elif zipp[0] > 0:\n",
    "            colour = cmap(norm((-zipp[1])))\n",
    "        else:\n",
    "            colour = cmap(norm(0))   \n",
    "        colors.append(colour)\n",
    "\n",
    "    # Create the plot            \n",
    "    plt.figure(figsize=(6,9))\n",
    "    plt.title('Bar chart of Value of Interest(V of I) viz a viz \\n average number of votes from 1992 to 1995', fontweight='bold', fontsize=16)\n",
    "    yerror = [np.array(overall_means) - np.array(lower_bounds), np.array(upper_bounds) - np.array(overall_means)]\n",
    "    positions = np.arange(len(years))\n",
    "    bars = plt.bar(positions,overall_means,width=1.0,edgecolor=None,tick_label=years,color = colors, alpha=0.9)\n",
    "    plt.errorbar(positions, overall_means, yerr=yerror,fmt=' ', capsize=5,ecolor='black')\n",
    "    plt.axhline(y = value_of_interest,color='black',linestyle='--', label='V of I')\n",
    "    plt.yticks([value_of_interest], fontweight='bold')\n",
    "    cbar = plt.colorbar(plt.cm.ScalarMappable(norm=norm, cmap=cmap),ax=plt.gca(),location = 'bottom', label='Value', alpha=0.9, pad=0.05)\n",
    "    \n",
    "    # Dejunking the chart\n",
    "    # Removing chart borders or spines\n",
    "    for spine in plt.gca().spines.values():\n",
    "        spine.set_visible(False)\n",
    "    # Adding text to bars    \n",
    "    for bar in bars:\n",
    "        height = bar.get_height()\n",
    "        plt.gca().text(bar.get_x() + bar.get_width() / 2, bar.get_height() - 10000, str(int(height)) + '\\n votes',\n",
    "                    ha='center', color='white', fontsize=18, fontweight = 'bold')     \n",
    "    plt.show();    \n"
   ]
  },
  {
   "cell_type": "code",
   "execution_count": 17,
   "metadata": {},
   "outputs": [
    {
     "data": {
      "application/vnd.jupyter.widget-view+json": {
       "model_id": "a0266a6f6e87414f8615a09fc615f70f",
       "version_major": 2,
       "version_minor": 0
      },
      "text/plain": [
       "HBox(children=(FloatSlider(value=35000.0, description='V of I', layout=Layout(height='650px', padding='50px 0 …"
      ]
     },
     "metadata": {},
     "output_type": "display_data"
    }
   ],
   "source": [
    "# Setup the slider widget\n",
    "def setup_slider(initial_value=35000):\n",
    "    y_slider = widgets.FloatSlider(value=initial_value, min=0, max=50000, step=1000,\n",
    "                                   description='V of I', orientation='vertical',\n",
    "                                   style={'description_width': 'initial'},\n",
    "                                   layout=widgets.Layout(width='80px', height='650px', padding='50px 0 0 0'))\n",
    "    return y_slider\n",
    "\n",
    "# Update the plot with slider\n",
    "def update_plot(change):\n",
    "    with out:\n",
    "        out.clear_output()\n",
    "        plot_data(y_slider.value, years, overall_means, lower_bounds, upper_bounds)\n",
    "\n",
    "# Main function to initialize and display all components\n",
    "def main():\n",
    "    global out, y_slider, years, overall_means, lower_bounds, upper_bounds\n",
    "    \n",
    "    # Generate data and compute statistics\n",
    "    df = generate_data()\n",
    "    years, overall_means, lower_bounds, upper_bounds= compute_statistics(df)\n",
    "    \n",
    "    # Set up slider and output display\n",
    "    y_slider = setup_slider()\n",
    "    y_slider.observe(update_plot, names='value')\n",
    "    out = widgets.Output()\n",
    "    hbox = widgets.HBox([y_slider, out])\n",
    "    # Display the HBox containing the slider and plot area\n",
    "    display(hbox)\n",
    "    \n",
    "    # Initial plot\n",
    "    update_plot(None)\n",
    "\n",
    "# Run main function to start the widget and plot display\n",
    "main()    "
   ]
  },
  {
   "cell_type": "code",
   "execution_count": null,
   "metadata": {},
   "outputs": [],
   "source": []
  }
 ],
 "metadata": {
  "kernelspec": {
   "display_name": "Python 3.12.7 ('myenv')",
   "language": "python",
   "name": "python3"
  },
  "language_info": {
   "codemirror_mode": {
    "name": "ipython",
    "version": 3
   },
   "file_extension": ".py",
   "mimetype": "text/x-python",
   "name": "python",
   "nbconvert_exporter": "python",
   "pygments_lexer": "ipython3",
   "version": "3.12.7"
  },
  "orig_nbformat": 4,
  "vscode": {
   "interpreter": {
    "hash": "63c49e8d1e646aa190844836d1cfc5ee1f530ae32fef9584fc84302df7dcdbd1"
   }
  }
 },
 "nbformat": 4,
 "nbformat_minor": 2
}
